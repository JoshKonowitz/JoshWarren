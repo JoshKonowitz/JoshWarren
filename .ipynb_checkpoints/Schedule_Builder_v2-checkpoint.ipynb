{
 "cells": [
  {
   "cell_type": "code",
   "execution_count": 1,
   "metadata": {
    "slideshow": {
     "slide_type": "slide"
    }
   },
   "outputs": [],
   "source": [
    "from datetime import datetime\n",
    "from itertools import combinations, product\n",
    "from ipywidgets import widgets, interact, Layout\n",
    "from IPython.core.display import display, HTML"
   ]
  },
  {
   "cell_type": "code",
   "execution_count": 2,
   "metadata": {
    "slideshow": {
     "slide_type": "subslide"
    }
   },
   "outputs": [],
   "source": [
    "def convert_time(string):\n",
    "    time = datetime.strptime(string, '%H:%M').time()\n",
    "    return time"
   ]
  },
  {
   "cell_type": "code",
   "execution_count": 3,
   "metadata": {
    "slideshow": {
     "slide_type": "subslide"
    }
   },
   "outputs": [],
   "source": [
    "#defines a course and sets variables based on inputs\n",
    "class Course:\n",
    "    def __init__(self, name, professor, times, lab):\n",
    "        self.subject = name[:3]\n",
    "        self.number = name[-3:]\n",
    "        self.professor = professor\n",
    "        self.days = [day for day in times]\n",
    "        self.times = times\n",
    "        self.lab = lab\n",
    "        for x in self.times:\n",
    "            for b in range(len(self.times[x])):\n",
    "                self.times[x][b] = convert_time(self.times[x][b])"
   ]
  },
  {
   "cell_type": "code",
   "execution_count": 4,
   "metadata": {
    "slideshow": {
     "slide_type": "subslide"
    }
   },
   "outputs": [],
   "source": [
    "class Lab:\n",
    "    def __init__(self, name, professor, times):\n",
    "        self.subject = name[:3]\n",
    "        self.number = name[-3:]\n",
    "        self.professor = professor\n",
    "        self.days = [day for day in times]\n",
    "        self.times = times\n",
    "        for x in self.times:\n",
    "            for b in range(len(self.times[x])):\n",
    "                self.times[x][b] = convert_time(self.times[x][b])"
   ]
  },
  {
   "cell_type": "code",
   "execution_count": 5,
   "metadata": {
    "slideshow": {
     "slide_type": "subslide"
    }
   },
   "outputs": [],
   "source": [
    "#checks if two courses' days and times overlap\n",
    "def check_overlap(a, b):\n",
    "    for x,y in product(a.days, b.days):\n",
    "        if x == y:\n",
    "            if b.times[x][0] < a.times[x][0]:\n",
    "                a, b = b, a\n",
    "            if a.times[x][1] > b.times[x][0]:\n",
    "                return True\n",
    "    else:\n",
    "        return False"
   ]
  },
  {
   "cell_type": "code",
   "execution_count": 6,
   "metadata": {
    "slideshow": {
     "slide_type": "subslide"
    }
   },
   "outputs": [],
   "source": [
    "#checks if course is already in schedule\n",
    "def check_repeat(a, b):\n",
    "    return a.subject + a.number == b.subject + b.number"
   ]
  },
  {
   "cell_type": "code",
   "execution_count": 7,
   "metadata": {
    "slideshow": {
     "slide_type": "subslide"
    }
   },
   "outputs": [],
   "source": [
    "#checks if course is before user's earliest time\n",
    "def check_early(a, early_time):\n",
    "    for day in a.times:\n",
    "        if a.times[day][0] < convert_time(early_time):\n",
    "            return True"
   ]
  },
  {
   "cell_type": "code",
   "execution_count": 8,
   "metadata": {
    "slideshow": {
     "slide_type": "subslide"
    }
   },
   "outputs": [],
   "source": [
    "#checks if course if after user's lastest time\n",
    "def check_late(a, late_time):\n",
    "    for day in a.times:\n",
    "        if a.times[day][0]  > convert_time(late_time):\n",
    "            return True"
   ]
  },
  {
   "cell_type": "code",
   "execution_count": 9,
   "metadata": {
    "slideshow": {
     "slide_type": "subslide"
    }
   },
   "outputs": [],
   "source": [
    "#if the user does not want courses on friday, checks if course is on friday\n",
    "def check_friday(a, friday_option):\n",
    "    if friday_option:\n",
    "        return \"F\" in a.days"
   ]
  },
  {
   "cell_type": "code",
   "execution_count": 10,
   "metadata": {
    "slideshow": {
     "slide_type": "subslide"
    }
   },
   "outputs": [],
   "source": [
    "#checks if the course's duration in minutes is longer than user's max class duration time\n",
    "def check_duration(a, max_duration):\n",
    "    if max_duration != None:\n",
    "        for day in a.times:\n",
    "            duration = (a.times[day][1].hour - a.times[day][0].hour)*60 + a.times[day][1].minute - a.times[day][0].minute + (a.times[day][1].second - a.times[day][0].second)/60.0\n",
    "            if duration > max_duration:\n",
    "                return True"
   ]
  },
  {
   "cell_type": "code",
   "execution_count": 11,
   "metadata": {
    "slideshow": {
     "slide_type": "subslide"
    }
   },
   "outputs": [],
   "source": [
    "def check_lab(option):\n",
    "    labs_needed = []\n",
    "    for a in option:\n",
    "        if a.lab == True:\n",
    "            for b in labs:\n",
    "                for c in option:\n",
    "                    if check_overlap(b, c):\n",
    "                        return False, option\n",
    "            else:\n",
    "                labs_needed.append(b)\n",
    "    else:\n",
    "        if len(labs_needed) > 0:\n",
    "            new_options = labs_needed\n",
    "            for x in option:\n",
    "                new_options.append(x)\n",
    "            option = tuple(new_options)\n",
    "        return True, option"
   ]
  },
  {
   "cell_type": "code",
   "execution_count": 12,
   "metadata": {
    "slideshow": {
     "slide_type": "subslide"
    }
   },
   "outputs": [],
   "source": [
    "def run_checks(a, b, early_time, late_time, friday_option, max_duration):\n",
    "    checks = [\n",
    "        check_overlap(a,b),\n",
    "        check_repeat(a, b),\n",
    "        check_early(a, early_time),\n",
    "        check_late(a, late_time),\n",
    "        check_friday(a, friday_option),\n",
    "        check_duration(a, max_duration)\n",
    "    ]\n",
    "    if True in checks:\n",
    "        return True"
   ]
  },
  {
   "cell_type": "code",
   "execution_count": 13,
   "metadata": {
    "slideshow": {
     "slide_type": "subslide"
    }
   },
   "outputs": [],
   "source": [
    "#prints schedule in txt format\n",
    "def print_schedule(option):\n",
    "    for x in range(2):\n",
    "        print(\"=\"*24)\n",
    "    for week_day in [\"M\", \"T\", \"W\", \"R\", \"F\"]:\n",
    "        schedule = []\n",
    "        for course in option:\n",
    "            for day in course.days:\n",
    "                if day == week_day:\n",
    "                    schedule.append([str(course.subject + course.number + \" \" + str(course.times[day][0]) + \"-\" + str(course.times[day][1])), course.times[day][0]])\n",
    "        schedule.sort(key=lambda x: x[1])\n",
    "        if len(schedule) > 0:\n",
    "            print(\"___________\"+week_day+\"____________\")\n",
    "        for course in schedule:\n",
    "            print(course[0])"
   ]
  },
  {
   "cell_type": "code",
   "execution_count": 14,
   "metadata": {
    "slideshow": {
     "slide_type": "slide"
    }
   },
   "outputs": [],
   "source": [
    "style = {'description_width': 'initial'}\n",
    "layout = Layout(width='30%')\n",
    "inputText = widgets.Text(layout = layout)\n",
    "no_widget = widgets.IntSlider(description=\"# of Courses:\", min=2, max = 8, step = 1, layout = layout, style = style)\n",
    "start_widget = widgets.IntSlider(description=\"Earliest Start: (am)\", min=6, max = 15, step = 1, layout = layout, style = style)\n",
    "end_widget = widgets.IntSlider(description=\"Latest End: (pm)\", min=14, max = 22, step = 1, layout = layout, style = style)\n",
    "duration_widget = widgets.IntSlider(description=\"Max Duration: (min)\", min=45, max = 360, step = 1, layout = layout, style = style)\n",
    "friday_widget = widgets.Dropdown(description=\"Fridays?\", options = [True, False], style = style, layout = layout)"
   ]
  },
  {
   "cell_type": "code",
   "execution_count": 15,
   "metadata": {
    "slideshow": {
     "slide_type": "subslide"
    }
   },
   "outputs": [],
   "source": [
    "classes = [\n",
    "    Course(\"MAR357\", \"\", {\"T\": [\"17:00\", \"18:20\"], \"R\": [\"17:00\", \"18:20\"]}, False),\n",
    "    Course(\"MAR444\", \"\", {\"T\": [\"12:30\", \"13:50\"], \"R\": [\"12:30\", \"13:50\"]}, False),\n",
    "    Course(\"MAR444\", \"\", {\"T\": [\"15:30\", \"16:50\"], \"R\": [\"15:30\", \"16:50\"]}, False),\n",
    "    Course(\"ACC252\", \"\", {\"T\": [\"11:00\", \"12:20\"], \"R\": [\"11:00\", \"12:20\"]}, False),\n",
    "    Course(\"ACC252\", \"\", {\"T\": [\"12:30\", \"13:50\"], \"R\": [\"12:30\", \"13:50\"]}, False),\n",
    "    Course(\"IST345\", \"\", {\"W\": [\"17:15\", \"20:05\"]}, False),\n",
    "    Course(\"IST345\", \"\", {\"T\": [\"9:30\", \"10:50\"], \"R\": [\"9:30\", \"10:50\"]}, False),\n",
    "    Course(\"IST345\", \"\", {\"T\": [\"17:15\", \"20:05\"]}, False),\n",
    "    Course(\"IST421\", \"\", {\"T\": [\"9:30\", \"12:15\"]}, False),\n",
    "    Course(\"IST421\", \"\", {\"W\": [\"9:30\", \"12:15\"]}, False),\n",
    "    Course(\"IST421\", \"\", {\"R\": [\"14:00\", \"16:45\"]}, False),\n",
    "    Course(\"IST256\", \"\", {\"M\": [\"9:30\", \"10:50\"]}, True)\n",
    "]\n",
    "labs = [\n",
    "    Lab(\"IST256\", \"\", {\"W\": [\"11:00\", \"12:05\"]}),\n",
    "    Lab(\"IST256\", \"\", {\"T\": [\"11:00\", \"12:05\"]})\n",
    "]"
   ]
  },
  {
   "cell_type": "code",
   "execution_count": 16,
   "metadata": {
    "slideshow": {
     "slide_type": "subslide"
    }
   },
   "outputs": [],
   "source": [
    "def create_schedules(b):\n",
    "    #user preferences\n",
    "    early_time = str(start_widget.value) + \":00\"\n",
    "    number_of_classes = no_widget.value\n",
    "    late_time = str(end_widget.value) + \":00\"\n",
    "    friday_option = friday_widget.value\n",
    "    max_duration = duration_widget.value\n",
    "    early_time, number_of_classes, late_time, friday_option, max_duration\n",
    "    \n",
    "    #runs all possible combinations of courses based on user request number\n",
    "    possible_classes = [course for course in classes if course.subject + str(course.number) in options]\n",
    "    all_options = list(combinations(possible_classes, number_of_classes))\n",
    "    new_options = []\n",
    "    for option in all_options:\n",
    "        for a, b in product(option, option):\n",
    "            if a != b:\n",
    "                if run_checks(a, b, early_time, late_time, friday_option, max_duration):\n",
    "                    break\n",
    "        else:\n",
    "            new_options.append(option)\n",
    "    final_options = []\n",
    "    for option in new_options:\n",
    "        check, new_option = check_lab(option)\n",
    "        if check:\n",
    "            final_options.append(new_option)\n",
    "            \n",
    "    try:\n",
    "        print_schedule(final_options[0])\n",
    "    except:\n",
    "        print(\"No Schedules\")"
   ]
  },
  {
   "cell_type": "code",
   "execution_count": 18,
   "metadata": {
    "slideshow": {
     "slide_type": "subslide"
    }
   },
   "outputs": [
    {
     "data": {
      "text/html": [
       "<h1 style=\"background-color: orange; padding: 20px; color: black; width: 400px\">College Schedule Builder:</h1>"
      ],
      "text/plain": [
       "<IPython.core.display.HTML object>"
      ]
     },
     "metadata": {},
     "output_type": "display_data"
    },
    {
     "name": "stdout",
     "output_type": "stream",
     "text": [
      "Courses you can take:\n",
      "What class would you like to add? or type 'Done'IST256\n",
      "IST256 is added!\n",
      "What class would you like to add? or type 'Done'IST345\n",
      "IST345 is added!\n",
      "What class would you like to add? or type 'Done'MAR444\n",
      "MAR444 is added!\n",
      "What class would you like to add? or type 'Done'done\n",
      "Thank you! Now set your preferences below:\n",
      "['IST256', 'IST345', 'MAR444']\n"
     ]
    },
    {
     "data": {
      "application/vnd.jupyter.widget-view+json": {
       "model_id": "740214078cbb41358fe233c96f18ed52",
       "version_major": 2,
       "version_minor": 0
      },
      "text/plain": [
       "IntSlider(value=2, description='# of Courses:', layout=Layout(width='30%'), max=8, min=2, style=SliderStyle(de…"
      ]
     },
     "metadata": {},
     "output_type": "display_data"
    },
    {
     "data": {
      "application/vnd.jupyter.widget-view+json": {
       "model_id": "214910920d6941e583327ffadc22d34c",
       "version_major": 2,
       "version_minor": 0
      },
      "text/plain": [
       "IntSlider(value=6, description='Earliest Start: (am)', layout=Layout(width='30%'), max=15, min=6, style=Slider…"
      ]
     },
     "metadata": {},
     "output_type": "display_data"
    },
    {
     "data": {
      "application/vnd.jupyter.widget-view+json": {
       "model_id": "d126578970604fa09e29e776c646cb89",
       "version_major": 2,
       "version_minor": 0
      },
      "text/plain": [
       "IntSlider(value=14, description='Latest End: (pm)', layout=Layout(width='30%'), max=22, min=14, style=SliderSt…"
      ]
     },
     "metadata": {},
     "output_type": "display_data"
    },
    {
     "data": {
      "application/vnd.jupyter.widget-view+json": {
       "model_id": "728caded216344d3a9c2676a11c3cfb9",
       "version_major": 2,
       "version_minor": 0
      },
      "text/plain": [
       "IntSlider(value=45, description='Max Duration: (min)', layout=Layout(width='30%'), max=360, min=45, style=Slid…"
      ]
     },
     "metadata": {},
     "output_type": "display_data"
    },
    {
     "data": {
      "application/vnd.jupyter.widget-view+json": {
       "model_id": "d19aca8ea2bb4e81aa9f00afc015ba00",
       "version_major": 2,
       "version_minor": 0
      },
      "text/plain": [
       "Dropdown(description='Fridays?', layout=Layout(width='30%'), options=(True, False), style=DescriptionStyle(des…"
      ]
     },
     "metadata": {},
     "output_type": "display_data"
    },
    {
     "data": {
      "application/vnd.jupyter.widget-view+json": {
       "model_id": "c4458e3468bb44ad99bb2f0786c2364f",
       "version_major": 2,
       "version_minor": 0
      },
      "text/plain": [
       "Button(description='Make Schedule!', style=ButtonStyle())"
      ]
     },
     "metadata": {},
     "output_type": "display_data"
    },
    {
     "data": {
      "text/html": [
       "<div style=\"background-color: orange; margin-top:20px; height: 40px; width: 440px\"></div>"
      ],
      "text/plain": [
       "<IPython.core.display.HTML object>"
      ]
     },
     "metadata": {},
     "output_type": "display_data"
    },
    {
     "name": "stdout",
     "output_type": "stream",
     "text": [
      "========================\n",
      "========================\n",
      "___________T____________\n",
      "MAR444 12:30:00-13:50:00\n",
      "___________W____________\n",
      "IST345 17:15:00-20:05:00\n",
      "___________R____________\n",
      "MAR444 12:30:00-13:50:00\n"
     ]
    }
   ],
   "source": [
    "display(HTML('<h1 style=\"background-color: orange; padding: 20px; color: black; width: 400px\">College Schedule Builder:</h1>'))\n",
    "\n",
    "inputText = widgets.Text(layout = layout)\n",
    "print(\"Courses you can take:\")\n",
    "run = True\n",
    "options = []\n",
    "while run:\n",
    "    option = input(\"What class would you like to add? or type 'Done'\")\n",
    "    if option in [course.subject + str(course.number) for course in classes]:\n",
    "        options.append(option)\n",
    "        print(option, \"is added!\")\n",
    "    elif option.lower() == 'done':\n",
    "        run = False\n",
    "        print(\"Thank you! Now set your preferences below:\")\n",
    "    else:\n",
    "        print(option, \"is not a valid class. Please try again.\")\n",
    "print(options)\n",
    "display(no_widget)\n",
    "display(start_widget)\n",
    "display(end_widget)\n",
    "display(duration_widget)\n",
    "display(friday_widget)\n",
    "button = widgets.Button(description=\"Make Schedule!\")\n",
    "display(button)\n",
    "button.on_click(create_schedules)\n",
    "display(HTML('<div style=\"background-color: orange; margin-top:20px; height: 40px; width: 440px\"></div>'))\n"
   ]
  },
  {
   "cell_type": "code",
   "execution_count": null,
   "metadata": {},
   "outputs": [],
   "source": []
  }
 ],
 "metadata": {
  "celltoolbar": "Slideshow",
  "kernelspec": {
   "display_name": "Python 3",
   "language": "python",
   "name": "python3"
  },
  "language_info": {
   "codemirror_mode": {
    "name": "ipython",
    "version": 3
   },
   "file_extension": ".py",
   "mimetype": "text/x-python",
   "name": "python",
   "nbconvert_exporter": "python",
   "pygments_lexer": "ipython3",
   "version": "3.7.0"
  },
  "widgets": {
   "application/vnd.jupyter.widget-state+json": {
    "state": {
     "297b4e5fc8664d5db3ff7fa46233abd8": {
      "model_module": "@jupyter-widgets/controls",
      "model_module_version": "1.4.0",
      "model_name": "IntSliderModel",
      "state": {
       "description": "# of Courses:",
       "layout": "IPY_MODEL_d6b33d10084c4882aa82cd47762e81aa",
       "max": 8,
       "min": 2,
       "style": "IPY_MODEL_a8d326eebe7d41a1991d68366446952a",
       "value": 4
      }
     },
     "3147d60deb3e451587113eeae4d5d584": {
      "model_module": "@jupyter-widgets/controls",
      "model_module_version": "1.4.0",
      "model_name": "SliderStyleModel",
      "state": {
       "description_width": "initial"
      }
     },
     "3f9c9ba85b194a528823b11d0fe941cc": {
      "model_module": "@jupyter-widgets/controls",
      "model_module_version": "1.4.0",
      "model_name": "DropdownModel",
      "state": {
       "_options_labels": [
        "True",
        "False"
       ],
       "description": "Fridays?",
       "index": 1,
       "layout": "IPY_MODEL_d6b33d10084c4882aa82cd47762e81aa",
       "style": "IPY_MODEL_eb59da0c062e4c4db97059f358b697fe"
      }
     },
     "4f711f0a9c514a079ca5af00945d400e": {
      "model_module": "@jupyter-widgets/controls",
      "model_module_version": "1.4.0",
      "model_name": "IntSliderModel",
      "state": {
       "description": "Earliest Start: (am)",
       "layout": "IPY_MODEL_d6b33d10084c4882aa82cd47762e81aa",
       "max": 15,
       "min": 6,
       "style": "IPY_MODEL_6209a76f6d3f45ff9f0b1ad0e5956fc0",
       "value": 9
      }
     },
     "5c552e14d91e452681d0b98b21b54f3f": {
      "model_module": "@jupyter-widgets/controls",
      "model_module_version": "1.4.0",
      "model_name": "TextModel",
      "state": {
       "layout": "IPY_MODEL_d6b33d10084c4882aa82cd47762e81aa",
       "style": "IPY_MODEL_63e93bb4ef98491dbcbb79565383c693",
       "value": "MAR357, MAR444, ACC252, IST345, IST421"
      }
     },
     "6060b16f44034d9fa6cbeced4d2a9f00": {
      "model_module": "@jupyter-widgets/controls",
      "model_module_version": "1.4.0",
      "model_name": "IntSliderModel",
      "state": {
       "description": "Max Duration: (min)",
       "layout": "IPY_MODEL_d6b33d10084c4882aa82cd47762e81aa",
       "max": 360,
       "min": 45,
       "style": "IPY_MODEL_edee32c5009d4034bbac96f1cde1b4d2",
       "value": 353
      }
     },
     "6209a76f6d3f45ff9f0b1ad0e5956fc0": {
      "model_module": "@jupyter-widgets/controls",
      "model_module_version": "1.4.0",
      "model_name": "SliderStyleModel",
      "state": {
       "description_width": "initial"
      }
     },
     "63e93bb4ef98491dbcbb79565383c693": {
      "model_module": "@jupyter-widgets/controls",
      "model_module_version": "1.4.0",
      "model_name": "DescriptionStyleModel",
      "state": {
       "description_width": ""
      }
     },
     "72dbb9508fe346279e47d61cc4738a2c": {
      "model_module": "@jupyter-widgets/controls",
      "model_module_version": "1.4.0",
      "model_name": "IntSliderModel",
      "state": {
       "description": "Latest End: (pm)",
       "layout": "IPY_MODEL_d6b33d10084c4882aa82cd47762e81aa",
       "max": 22,
       "min": 14,
       "style": "IPY_MODEL_3147d60deb3e451587113eeae4d5d584",
       "value": 21
      }
     },
     "a3c4d5be8f88439b81f684e30d092a62": {
      "model_module": "@jupyter-widgets/controls",
      "model_module_version": "1.4.0",
      "model_name": "TextModel",
      "state": {
       "layout": "IPY_MODEL_d6b33d10084c4882aa82cd47762e81aa",
       "style": "IPY_MODEL_b8221f1dfcee490aad16c1c05f3d826b"
      }
     },
     "a8d326eebe7d41a1991d68366446952a": {
      "model_module": "@jupyter-widgets/controls",
      "model_module_version": "1.4.0",
      "model_name": "SliderStyleModel",
      "state": {
       "description_width": "initial"
      }
     },
     "b8221f1dfcee490aad16c1c05f3d826b": {
      "model_module": "@jupyter-widgets/controls",
      "model_module_version": "1.4.0",
      "model_name": "DescriptionStyleModel",
      "state": {
       "description_width": ""
      }
     },
     "d6b33d10084c4882aa82cd47762e81aa": {
      "model_module": "@jupyter-widgets/base",
      "model_module_version": "1.1.0",
      "model_name": "LayoutModel",
      "state": {
       "width": "40%"
      }
     },
     "eb59da0c062e4c4db97059f358b697fe": {
      "model_module": "@jupyter-widgets/controls",
      "model_module_version": "1.4.0",
      "model_name": "DescriptionStyleModel",
      "state": {
       "description_width": "initial"
      }
     },
     "edee32c5009d4034bbac96f1cde1b4d2": {
      "model_module": "@jupyter-widgets/controls",
      "model_module_version": "1.4.0",
      "model_name": "SliderStyleModel",
      "state": {
       "description_width": "initial"
      }
     }
    },
    "version_major": 2,
    "version_minor": 0
   }
  }
 },
 "nbformat": 4,
 "nbformat_minor": 2
}
