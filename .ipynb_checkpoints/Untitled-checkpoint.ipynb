{
 "cells": [
  {
   "cell_type": "code",
   "execution_count": 1,
   "metadata": {
    "slideshow": {
     "slide_type": "slide"
    }
   },
   "outputs": [],
   "source": [
    "from datetime import datetime\n",
    "from itertools import combinations, product\n",
    "from ipywidgets import widgets, interact\n",
    "from IPython.core.display import display, HTML"
   ]
  },
  {
   "cell_type": "code",
   "execution_count": 2,
   "metadata": {},
   "outputs": [],
   "source": [
    "tab = \"          \"\n",
    "def early_slider(x):\n",
    "    if int(x) != x:\n",
    "        m = \":30\"\n",
    "    else:\n",
    "        m = \":00\"\n",
    "    early_time = \"\".join(str(int(x)) + m + \" am\")\n",
    "    print(tab, \"Earliest Time:\", early_time)\n",
    "\n",
    "def late_slider(x):\n",
    "    if int(x) != x:\n",
    "        m = \":30\"\n",
    "    else:\n",
    "        m = \":00\"\n",
    "    late_time = \"\".join(str(int(x)) + m + \" pm\")\n",
    "    print(tab, \"Latest Time:\", late_time)\n",
    "\n",
    "def f(x): \n",
    "    print(tab, \"Max Duration:\", x, \"Minutes\")\n",
    "    \n",
    "def fridays_widget(x):\n",
    "    if x == \"Yes\":\n",
    "        fridays_option = True\n",
    "    else:\n",
    "        fridays_option = False\n",
    "    print(tab, \"Friday?\", fridays_option)\n",
    "\n",
    "def no_widget(x):\n",
    "    print(tab, \"Number of Classes:\", x)"
   ]
  },
  {
   "cell_type": "code",
   "execution_count": 14,
   "metadata": {},
   "outputs": [
    {
     "data": {
      "text/html": [
       "<h1>College Schedule Builder:</h1>"
      ],
      "text/plain": [
       "<IPython.core.display.HTML object>"
      ]
     },
     "metadata": {},
     "output_type": "display_data"
    },
    {
     "name": "stdout",
     "output_type": "stream",
     "text": [
      "Courses you can take:\n"
     ]
    },
    {
     "data": {
      "application/vnd.jupyter.widget-view+json": {
       "model_id": "7671cffa7d264571a13d53f9eef0154d",
       "version_major": 2,
       "version_minor": 0
      },
      "text/plain": [
       "Text(value='')"
      ]
     },
     "metadata": {},
     "output_type": "display_data"
    }
   ],
   "source": [
    "display(HTML('<h1>College Schedule Builder:</h1>'))\n",
    "inputText = widgets.Text()\n",
    "print(\"Courses you can take:\")\n",
    "inputText"
   ]
  },
  {
   "cell_type": "code",
   "execution_count": 15,
   "metadata": {},
   "outputs": [
    {
     "data": {
      "text/html": [
       "<h1>Filter Schedules:</h1>"
      ],
      "text/plain": [
       "<IPython.core.display.HTML object>"
      ]
     },
     "metadata": {},
     "output_type": "display_data"
    },
    {
     "name": "stdout",
     "output_type": "stream",
     "text": [
      "What number of class do you want to take?\n"
     ]
    },
    {
     "data": {
      "application/vnd.jupyter.widget-view+json": {
       "model_id": "91080a701d4949a7b9880f0612929560",
       "version_major": 2,
       "version_minor": 0
      },
      "text/plain": [
       "interactive(children=(IntSlider(value=5, description='x', max=8, min=2), Output()), _dom_classes=('widget-inte…"
      ]
     },
     "metadata": {},
     "output_type": "display_data"
    },
    {
     "name": "stdout",
     "output_type": "stream",
     "text": [
      "What is the earliest time you want to have class?\n"
     ]
    },
    {
     "data": {
      "application/vnd.jupyter.widget-view+json": {
       "model_id": "ce80c2147cd74d0191f630c5ea92d464",
       "version_major": 2,
       "version_minor": 0
      },
      "text/plain": [
       "interactive(children=(FloatSlider(value=9.0, description='x', max=12.0, min=6.0, step=0.5), Output()), _dom_cl…"
      ]
     },
     "metadata": {},
     "output_type": "display_data"
    },
    {
     "name": "stdout",
     "output_type": "stream",
     "text": [
      "What is the latest time you want to get out of class?\n"
     ]
    },
    {
     "data": {
      "application/vnd.jupyter.widget-view+json": {
       "model_id": "3531d16178ed4f7c97ba7c57ec4fc751",
       "version_major": 2,
       "version_minor": 0
      },
      "text/plain": [
       "interactive(children=(FloatSlider(value=6.0, description='x', max=11.0, min=2.0, step=0.5), Output()), _dom_cl…"
      ]
     },
     "metadata": {},
     "output_type": "display_data"
    },
    {
     "name": "stdout",
     "output_type": "stream",
     "text": [
      "What is the max duration of a class?\n"
     ]
    },
    {
     "data": {
      "application/vnd.jupyter.widget-view+json": {
       "model_id": "9df464c7d58545998ce5373631fec935",
       "version_major": 2,
       "version_minor": 0
      },
      "text/plain": [
       "interactive(children=(IntSlider(value=142, description='x', max=240, min=45), Output()), _dom_classes=('widget…"
      ]
     },
     "metadata": {},
     "output_type": "display_data"
    },
    {
     "name": "stdout",
     "output_type": "stream",
     "text": [
      "Do you want Friday classes?\n"
     ]
    },
    {
     "data": {
      "application/vnd.jupyter.widget-view+json": {
       "model_id": "628c3a9338c446d38ce3f597d67769e5",
       "version_major": 2,
       "version_minor": 0
      },
      "text/plain": [
       "interactive(children=(Dropdown(description='x', options=('Yes', 'No'), value='Yes'), Output()), _dom_classes=(…"
      ]
     },
     "metadata": {},
     "output_type": "display_data"
    }
   ],
   "source": [
    "display(HTML('<h1>Filter Schedules:</h1>'))\n",
    "print(\"What number of class do you want to take?\")\n",
    "no_classes = interact(no_widget, x=(2,8))\n",
    "print(\"What is the earliest time you want to have class?\")\n",
    "early_time = interact(early_slider, x = (6, 12, .5))\n",
    "print(\"What is the latest time you want to get out of class?\")\n",
    "late_time = interact(late_slider, x = (2, 11, .5))\n",
    "print(\"What is the max duration of a class?\")\n",
    "max_duration = interact(f, x = (45, 240))\n",
    "print(\"Do you want Friday classes?\")\n",
    "fridays = widgets.interact(fridays_widget, x=[\"Yes\", \"No\"])"
   ]
  },
  {
   "cell_type": "code",
   "execution_count": null,
   "metadata": {},
   "outputs": [],
   "source": []
  }
 ],
 "metadata": {
  "kernelspec": {
   "display_name": "Python 3",
   "language": "python",
   "name": "python3"
  },
  "language_info": {
   "codemirror_mode": {
    "name": "ipython",
    "version": 3
   },
   "file_extension": ".py",
   "mimetype": "text/x-python",
   "name": "python",
   "nbconvert_exporter": "python",
   "pygments_lexer": "ipython3",
   "version": "3.7.0"
  }
 },
 "nbformat": 4,
 "nbformat_minor": 2
}
