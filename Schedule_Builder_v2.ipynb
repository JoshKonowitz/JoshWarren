{
 "cells": [
  {
   "cell_type": "code",
   "execution_count": 62,
   "metadata": {
    "slideshow": {
     "slide_type": "slide"
    }
   },
   "outputs": [],
   "source": [
    "from datetime import datetime\n",
    "from itertools import combinations, product\n",
    "from ipywidgets import widgets, interact, Layout\n",
    "from IPython.core.display import display, HTML"
   ]
  },
  {
   "cell_type": "code",
   "execution_count": 83,
   "metadata": {},
   "outputs": [],
   "source": [
    "def convert_time(string):\n",
    "    time = datetime.strptime(string, '%H:%M').time()\n",
    "    return time"
   ]
  },
  {
   "cell_type": "code",
   "execution_count": 84,
   "metadata": {},
   "outputs": [],
   "source": [
    "#defines a course and sets variables based on inputs\n",
    "class Course:\n",
    "    def __init__(self, name, professor, times, lab):\n",
    "        self.subject = name[:3]\n",
    "        self.number = name[-3:]\n",
    "        self.professor = professor\n",
    "        self.days = [day for day in times]\n",
    "        self.times = times\n",
    "        self.lab = lab\n",
    "        for x in self.times:\n",
    "            for b in range(len(self.times[x])):\n",
    "                self.times[x][b] = convert_time(self.times[x][b])"
   ]
  },
  {
   "cell_type": "code",
   "execution_count": 85,
   "metadata": {},
   "outputs": [],
   "source": [
    "class Lab:\n",
    "    def __init__(self, name, professor, times):\n",
    "        self.subject = name[:3]\n",
    "        self.number = name[-3:]\n",
    "        self.professor = professor\n",
    "        self.days = [day for day in times]\n",
    "        self.times = times\n",
    "        for x in self.times:\n",
    "            for b in range(len(self.times[x])):\n",
    "                self.times[x][b] = convert_time(self.times[x][b])"
   ]
  },
  {
   "cell_type": "code",
   "execution_count": 86,
   "metadata": {},
   "outputs": [],
   "source": [
    "#checks if two courses' days and times overlap\n",
    "def check_overlap(a, b):\n",
    "    for x,y in product(a.days, b.days):\n",
    "        if x == y:\n",
    "            if b.times[x][0] < a.times[x][0]:\n",
    "                a, b = b, a\n",
    "            if a.times[x][1] > b.times[x][0]:\n",
    "                return True\n",
    "    else:\n",
    "        return False"
   ]
  },
  {
   "cell_type": "code",
   "execution_count": 87,
   "metadata": {},
   "outputs": [],
   "source": [
    "#checks if course is already in schedule\n",
    "def check_repeat(a, b):\n",
    "    return a.subject + a.number == b.subject + b.number"
   ]
  },
  {
   "cell_type": "code",
   "execution_count": 88,
   "metadata": {},
   "outputs": [],
   "source": [
    "#checks if course is before user's earliest time\n",
    "def check_early(a, early_time):\n",
    "    for day in a.times:\n",
    "        if a.times[day][0] < convert_time(early_time):\n",
    "            return True"
   ]
  },
  {
   "cell_type": "code",
   "execution_count": 89,
   "metadata": {},
   "outputs": [],
   "source": [
    "#checks if course if after user's lastest time\n",
    "def check_late(a, late_time):\n",
    "    for day in a.times:\n",
    "        if a.times[day][0]  > convert_time(late_time):\n",
    "            return True"
   ]
  },
  {
   "cell_type": "code",
   "execution_count": 90,
   "metadata": {},
   "outputs": [],
   "source": [
    "#if the user does not want courses on friday, checks if course is on friday\n",
    "def check_friday(a, friday_option):\n",
    "    if friday_option:\n",
    "        return \"F\" in a.days"
   ]
  },
  {
   "cell_type": "code",
   "execution_count": 91,
   "metadata": {},
   "outputs": [],
   "source": [
    "#checks if the course's duration in minutes is longer than user's max class duration time\n",
    "def check_duration(a, max_duration):\n",
    "    if max_duration != None:\n",
    "        for day in a.times:\n",
    "            duration = (a.times[day][1].hour - a.times[day][0].hour)*60 + a.times[day][1].minute - a.times[day][0].minute + (a.times[day][1].second - a.times[day][0].second)/60.0\n",
    "            if duration > max_duration:\n",
    "                return True"
   ]
  },
  {
   "cell_type": "code",
   "execution_count": 93,
   "metadata": {},
   "outputs": [],
   "source": [
    "def check_lab(option):\n",
    "    labs_needed = []\n",
    "    for a in option:\n",
    "        if a.lab == True:\n",
    "            for b in labs:\n",
    "                for c in option:\n",
    "                    if check_overlap(b, c):\n",
    "                        return False, option\n",
    "            else:\n",
    "                labs_needed.append(b)\n",
    "    else:\n",
    "        if len(labs_needed) > 0:\n",
    "            new_options = labs_needed\n",
    "            for x in option:\n",
    "                new_options.append(x)\n",
    "            option = tuple(new_options)\n",
    "        return True, option"
   ]
  },
  {
   "cell_type": "code",
   "execution_count": 94,
   "metadata": {},
   "outputs": [],
   "source": [
    "def run_checks(a, b, early_time, late_time, friday_option, max_duration):\n",
    "    checks = [\n",
    "        check_overlap(a,b),\n",
    "        check_repeat(a, b),\n",
    "        check_early(a, early_time),\n",
    "        check_late(a, late_time),\n",
    "        check_friday(a, friday_option),\n",
    "        check_duration(a, max_duration)\n",
    "    ]\n",
    "    if True in checks:\n",
    "        return True"
   ]
  },
  {
   "cell_type": "code",
   "execution_count": 95,
   "metadata": {},
   "outputs": [],
   "source": [
    "#prints schedule in txt format\n",
    "def print_schedule(option):\n",
    "    for x in range(2):\n",
    "        print(\"=\"*24)\n",
    "    for week_day in [\"M\", \"T\", \"W\", \"R\", \"F\"]:\n",
    "        schedule = []\n",
    "        for course in option:\n",
    "            for day in course.days:\n",
    "                if day == week_day:\n",
    "                    schedule.append([str(course.subject + course.number + \" \" + str(course.times[day][0]) + \"-\" + str(course.times[day][1])), course.times[day][0]])\n",
    "        schedule.sort(key=lambda x: x[1])\n",
    "        if len(schedule) > 0:\n",
    "            print(\"___________\"+week_day+\"____________\")\n",
    "        for course in schedule:\n",
    "            print(course[0])"
   ]
  },
  {
   "cell_type": "code",
   "execution_count": 134,
   "metadata": {},
   "outputs": [
    {
     "data": {
      "text/html": [
       "<h1>College Schedule Builder:</h1>"
      ],
      "text/plain": [
       "<IPython.core.display.HTML object>"
      ]
     },
     "metadata": {},
     "output_type": "display_data"
    },
    {
     "name": "stdout",
     "output_type": "stream",
     "text": [
      "Courses you can take:\n"
     ]
    },
    {
     "data": {
      "application/vnd.jupyter.widget-view+json": {
       "model_id": "df59782e47424f34810daecef8ef46db",
       "version_major": 2,
       "version_minor": 0
      },
      "text/plain": [
       "Text(value='', layout=Layout(width='40%'))"
      ]
     },
     "metadata": {},
     "output_type": "display_data"
    },
    {
     "data": {
      "application/vnd.jupyter.widget-view+json": {
       "model_id": "cd2df66ef0614333a15e505400c3842a",
       "version_major": 2,
       "version_minor": 0
      },
      "text/plain": [
       "IntSlider(value=2, description='# of Courses:', layout=Layout(width='40%'), max=8, min=2, style=SliderStyle(de…"
      ]
     },
     "metadata": {},
     "output_type": "display_data"
    },
    {
     "data": {
      "application/vnd.jupyter.widget-view+json": {
       "model_id": "d13ad20482484e8cb1519e42c7cae025",
       "version_major": 2,
       "version_minor": 0
      },
      "text/plain": [
       "IntSlider(value=6, description='Earliest Start: (am)', layout=Layout(width='40%'), max=15, min=6, style=Slider…"
      ]
     },
     "metadata": {},
     "output_type": "display_data"
    },
    {
     "data": {
      "application/vnd.jupyter.widget-view+json": {
       "model_id": "4d28e2df779640c89f62dd09b527e531",
       "version_major": 2,
       "version_minor": 0
      },
      "text/plain": [
       "IntSlider(value=14, description='Latest End: (pm)', layout=Layout(width='40%'), max=22, min=14, style=SliderSt…"
      ]
     },
     "metadata": {},
     "output_type": "display_data"
    },
    {
     "data": {
      "application/vnd.jupyter.widget-view+json": {
       "model_id": "0d2a64f1adf041fdbcf86fd9b562e9d8",
       "version_major": 2,
       "version_minor": 0
      },
      "text/plain": [
       "IntSlider(value=45, description='Max Duration: (min)', layout=Layout(width='40%'), max=360, min=45, style=Slid…"
      ]
     },
     "metadata": {},
     "output_type": "display_data"
    },
    {
     "data": {
      "application/vnd.jupyter.widget-view+json": {
       "model_id": "9a1be620e49b41a0a9072388d2c8ae5b",
       "version_major": 2,
       "version_minor": 0
      },
      "text/plain": [
       "Dropdown(description='Fridays?', layout=Layout(width='40%'), options=(True, False), style=DescriptionStyle(des…"
      ]
     },
     "metadata": {},
     "output_type": "display_data"
    }
   ],
   "source": [
    "style = {'description_width': 'initial'}\n",
    "layout = Layout(width='40%')\n",
    "\n",
    "display(HTML('<h1>College Schedule Builder:</h1>'))\n",
    "\n",
    "inputText = widgets.Text(layout = layout)\n",
    "print(\"Courses you can take:\")\n",
    "display(inputText)\n",
    "\n",
    "no_widget = widgets.IntSlider(description=\"# of Courses:\", min=2, max = 8, step = 1, layout = layout, style = style)\n",
    "display(no_widget)\n",
    "\n",
    "start_widget = widgets.IntSlider(description=\"Earliest Start: (am)\", min=6, max = 15, step = 1, layout = layout, style = style)\n",
    "display(start_widget)\n",
    "\n",
    "end_widget = widgets.IntSlider(description=\"Latest End: (pm)\", min=14, max = 22, step = 1, layout = layout, style = style)\n",
    "display(end_widget)\n",
    "\n",
    "duration_widget = widgets.IntSlider(description=\"Max Duration: (min)\", min=45, max = 360, step = 1, layout = layout, style = style)\n",
    "display(duration_widget)\n",
    "\n",
    "friday_widget = widgets.Dropdown(description=\"Fridays?\", options = [True, False], style = style, layout = layout)\n",
    "display(friday_widget)\n"
   ]
  },
  {
   "cell_type": "code",
   "execution_count": 143,
   "metadata": {},
   "outputs": [],
   "source": [
    "classes = [\n",
    "    Course(\"MAR357\", \"\", {\"T\": [\"17:00\", \"18:20\"], \"R\": [\"17:00\", \"18:20\"]}, False),\n",
    "    Course(\"MAR444\", \"\", {\"T\": [\"12:30\", \"13:50\"], \"R\": [\"12:30\", \"13:50\"]}, False),\n",
    "    Course(\"MAR444\", \"\", {\"T\": [\"15:30\", \"16:50\"], \"R\": [\"15:30\", \"16:50\"]}, False),\n",
    "    Course(\"ACC252\", \"\", {\"T\": [\"11:00\", \"12:20\"], \"R\": [\"11:00\", \"12:20\"]}, False),\n",
    "    Course(\"ACC252\", \"\", {\"T\": [\"12:30\", \"13:50\"], \"R\": [\"12:30\", \"13:50\"]}, False),\n",
    "    Course(\"IST345\", \"\", {\"W\": [\"17:15\", \"20:05\"]}, False),\n",
    "    Course(\"IST345\", \"\", {\"T\": [\"9:30\", \"10:50\"], \"R\": [\"9:30\", \"10:50\"]}, False),\n",
    "    Course(\"IST345\", \"\", {\"T\": [\"17:15\", \"20:05\"]}, False),\n",
    "    Course(\"IST421\", \"\", {\"T\": [\"9:30\", \"12:15\"]}, False),\n",
    "    Course(\"IST421\", \"\", {\"W\": [\"9:30\", \"12:15\"]}, False),\n",
    "    Course(\"IST421\", \"\", {\"R\": [\"14:00\", \"16:45\"]}, False),\n",
    "]\n",
    "labs = [\n",
    "\n",
    "]"
   ]
  },
  {
   "cell_type": "code",
   "execution_count": 144,
   "metadata": {},
   "outputs": [],
   "source": [
    "#user preferences\n",
    "early_time = str(start_widget.value) + \":00\"\n",
    "number_of_classes = no_widget.value\n",
    "late_time = str(end_widget.value) + \":00\"\n",
    "friday_option = friday_widget.value\n",
    "max_duration = duration_widget.value"
   ]
  },
  {
   "cell_type": "code",
   "execution_count": 145,
   "metadata": {},
   "outputs": [
    {
     "data": {
      "text/plain": [
       "('9:00', 4, '21:00', False, 158)"
      ]
     },
     "execution_count": 145,
     "metadata": {},
     "output_type": "execute_result"
    }
   ],
   "source": [
    "early_time, number_of_classes, late_time, friday_option, max_duration"
   ]
  },
  {
   "cell_type": "code",
   "execution_count": 149,
   "metadata": {},
   "outputs": [
    {
     "name": "stdout",
     "output_type": "stream",
     "text": [
      "========================\n",
      "========================\n",
      "___________T____________\n",
      "IST345 09:30:00-10:50:00\n",
      "ACC252 11:00:00-12:20:00\n",
      "MAR444 12:30:00-13:50:00\n",
      "MAR357 17:00:00-18:20:00\n",
      "___________R____________\n",
      "IST345 09:30:00-10:50:00\n",
      "ACC252 11:00:00-12:20:00\n",
      "MAR444 12:30:00-13:50:00\n",
      "MAR357 17:00:00-18:20:00\n"
     ]
    }
   ],
   "source": [
    "#runs all possible combinations of courses based on user request number\n",
    "all_options = list(combinations(classes, number_of_classes))\n",
    "\n",
    "new_options = []\n",
    "for option in all_options:\n",
    "    for a, b in product(option, option):\n",
    "        if a != b:\n",
    "            if run_checks(a, b, early_time, late_time, friday_option, max_duration):\n",
    "                break\n",
    "    else:\n",
    "        new_options.append(option)\n",
    "final_options = []\n",
    "for option in new_options:\n",
    "    check, new_option = check_lab(option)\n",
    "    if check:\n",
    "        final_options.append(new_option)\n",
    "\n",
    "print_schedule(final_options[0])"
   ]
  },
  {
   "cell_type": "code",
   "execution_count": null,
   "metadata": {},
   "outputs": [],
   "source": []
  }
 ],
 "metadata": {
  "kernelspec": {
   "display_name": "Python 3",
   "language": "python",
   "name": "python3"
  },
  "language_info": {
   "codemirror_mode": {
    "name": "ipython",
    "version": 3
   },
   "file_extension": ".py",
   "mimetype": "text/x-python",
   "name": "python",
   "nbconvert_exporter": "python",
   "pygments_lexer": "ipython3",
   "version": "3.7.0"
  }
 },
 "nbformat": 4,
 "nbformat_minor": 2
}
